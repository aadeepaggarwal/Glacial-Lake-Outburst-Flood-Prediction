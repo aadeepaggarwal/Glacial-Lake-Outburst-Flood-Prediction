{
 "cells": [
  {
   "cell_type": "code",
   "execution_count": null,
   "metadata": {},
   "outputs": [],
   "source": [
    "# !pip install -q kaggle\n",
    "# !mkdir -p ~/.kaggle\n",
    "\n",
    "# !kaggle datasets download -d aadeepaggarwal/df-raw-fydp\n",
    "\n",
    "# import zipfile\n",
    "# import os\n",
    "\n",
    "# with zipfile.ZipFile(\"C:\\Users\\aadee\\OneDrive\\Desktop\\GLOF Final\\prepared_dataset.zip\", 'r') as zip_ref:\n",
    "#     zip_ref.extractall(\"data\")"
   ]
  },
  {
   "cell_type": "code",
   "execution_count": null,
   "metadata": {},
   "outputs": [],
   "source": [
    "import pandas as pd\n",
    "mydf = pd.read_csv(\"C:\\Users\\aadee\\OneDrive\\Desktop\\GLOF Final\\prepared_dataset.csv\", usecols=[\"lat\", \"lon\", \"mid_date\", \"v [m/yr]\"])"
   ]
  },
  {
   "cell_type": "code",
   "execution_count": 3,
   "metadata": {},
   "outputs": [
    {
     "name": "stdout",
     "output_type": "stream",
     "text": [
      "Original data points: 68146246\n",
      "Filtered data points: 40994766\n"
     ]
    },
    {
     "data": {
      "text/html": [
       "<div>\n",
       "<style scoped>\n",
       "    .dataframe tbody tr th:only-of-type {\n",
       "        vertical-align: middle;\n",
       "    }\n",
       "\n",
       "    .dataframe tbody tr th {\n",
       "        vertical-align: top;\n",
       "    }\n",
       "\n",
       "    .dataframe thead th {\n",
       "        text-align: right;\n",
       "    }\n",
       "</style>\n",
       "<table border=\"1\" class=\"dataframe\">\n",
       "  <thead>\n",
       "    <tr style=\"text-align: right;\">\n",
       "      <th></th>\n",
       "      <th>mid_date</th>\n",
       "      <th>lon</th>\n",
       "      <th>lat</th>\n",
       "      <th>v [m/yr]</th>\n",
       "    </tr>\n",
       "  </thead>\n",
       "  <tbody>\n",
       "    <tr>\n",
       "      <th>0</th>\n",
       "      <td>2009-10-30 05:25:25.862885888</td>\n",
       "      <td>74.353</td>\n",
       "      <td>36.25</td>\n",
       "      <td>23.0</td>\n",
       "    </tr>\n",
       "    <tr>\n",
       "      <th>1</th>\n",
       "      <td>2004-08-28 05:30:18.351895040</td>\n",
       "      <td>74.353</td>\n",
       "      <td>36.25</td>\n",
       "      <td>79.0</td>\n",
       "    </tr>\n",
       "    <tr>\n",
       "      <th>3</th>\n",
       "      <td>2021-08-08 05:46:39.210629120</td>\n",
       "      <td>74.353</td>\n",
       "      <td>36.25</td>\n",
       "      <td>5.0</td>\n",
       "    </tr>\n",
       "    <tr>\n",
       "      <th>4</th>\n",
       "      <td>2016-02-27 05:42:51.255436032</td>\n",
       "      <td>74.353</td>\n",
       "      <td>36.25</td>\n",
       "      <td>8.0</td>\n",
       "    </tr>\n",
       "    <tr>\n",
       "      <th>5</th>\n",
       "      <td>2011-06-09 17:27:53.216076032</td>\n",
       "      <td>74.353</td>\n",
       "      <td>36.25</td>\n",
       "      <td>94.0</td>\n",
       "    </tr>\n",
       "  </tbody>\n",
       "</table>\n",
       "</div>"
      ],
      "text/plain": [
       "                       mid_date     lon    lat  v [m/yr]\n",
       "0 2009-10-30 05:25:25.862885888  74.353  36.25      23.0\n",
       "1 2004-08-28 05:30:18.351895040  74.353  36.25      79.0\n",
       "3 2021-08-08 05:46:39.210629120  74.353  36.25       5.0\n",
       "4 2016-02-27 05:42:51.255436032  74.353  36.25       8.0\n",
       "5 2011-06-09 17:27:53.216076032  74.353  36.25      94.0"
      ]
     },
     "execution_count": 3,
     "metadata": {},
     "output_type": "execute_result"
    }
   ],
   "source": [
    "import pandas as pd\n",
    "\n",
    "# First ensure mid_date is a datetime type (if it isn't already)\n",
    "mydf['mid_date'] = pd.to_datetime(mydf['mid_date'])\n",
    "\n",
    "# Filter for dates between 2000-01-01 and 2021-12-31\n",
    "filtered_df = mydf[(mydf['mid_date'] >= '2000-01-01') & (mydf['mid_date'] <= '2021-12-31')]\n",
    "\n",
    "# Display the filtered data\n",
    "print(f\"Original data points: {len(mydf)}\")\n",
    "print(f\"Filtered data points: {len(filtered_df)}\")\n",
    "filtered_df.head()"
   ]
  },
  {
   "cell_type": "code",
   "execution_count": 4,
   "metadata": {},
   "outputs": [
    {
     "data": {
      "text/html": [
       "<div>\n",
       "<style scoped>\n",
       "    .dataframe tbody tr th:only-of-type {\n",
       "        vertical-align: middle;\n",
       "    }\n",
       "\n",
       "    .dataframe tbody tr th {\n",
       "        vertical-align: top;\n",
       "    }\n",
       "\n",
       "    .dataframe thead th {\n",
       "        text-align: right;\n",
       "    }\n",
       "</style>\n",
       "<table border=\"1\" class=\"dataframe\">\n",
       "  <thead>\n",
       "    <tr style=\"text-align: right;\">\n",
       "      <th></th>\n",
       "      <th>mid_date</th>\n",
       "      <th>lon</th>\n",
       "      <th>lat</th>\n",
       "      <th>v [m/yr]</th>\n",
       "    </tr>\n",
       "  </thead>\n",
       "  <tbody>\n",
       "  </tbody>\n",
       "</table>\n",
       "</div>"
      ],
      "text/plain": [
       "Empty DataFrame\n",
       "Columns: [mid_date, lon, lat, v [m/yr]]\n",
       "Index: []"
      ]
     },
     "execution_count": 4,
     "metadata": {},
     "output_type": "execute_result"
    }
   ],
   "source": [
    "df = filtered_df\n",
    "df[(df[\"v [m/yr]\"] == \"2021-11-15\")]"
   ]
  },
  {
   "cell_type": "code",
   "execution_count": 5,
   "metadata": {
    "id": "ndsMnxHCuBv6"
   },
   "outputs": [
    {
     "name": "stderr",
     "output_type": "stream",
     "text": [
      "2025-03-01 03:40:05,165 - Using device: cuda\n"
     ]
    }
   ],
   "source": [
    "# Cell 1: Import necessary libraries\n",
    "import pandas as pd\n",
    "import numpy as np\n",
    "import torch\n",
    "import torch.nn as nn\n",
    "import torch.optim as optim\n",
    "from torch.utils.data import Dataset, DataLoader\n",
    "from torch.cuda.amp import autocast, GradScaler\n",
    "from sklearn.preprocessing import StandardScaler\n",
    "from sklearn.model_selection import train_test_split\n",
    "from tqdm import tqdm\n",
    "import matplotlib.pyplot as plt\n",
    "import logging\n",
    "\n",
    "# Set up logging to track training metrics\n",
    "logging.basicConfig(level=logging.INFO, format='%(asctime)s - %(message)s')\n",
    "logger = logging.getLogger()\n",
    "\n",
    "# Check device availability\n",
    "device = torch.device('cuda' if torch.cuda.is_available() else 'cpu')\n",
    "logger.info(f\"Using device: {device}\")"
   ]
  },
  {
   "cell_type": "code",
   "execution_count": 6,
   "metadata": {
    "id": "ydAkfmYyyNrt"
   },
   "outputs": [],
   "source": [
    "# Cell # 2\n",
    "def load_and_preprocess_data(df):\n",
    "    \"\"\"\n",
    "    Load and preprocess the dataset for a Transformer model.\n",
    "\n",
    "    Parameters:\n",
    "    - file_path (str): Path to the CSV file containing the dataset.\n",
    "\n",
    "    Returns:\n",
    "    - data (np.array): Preprocessed data with scaled features and target.\n",
    "    - scaler_X (StandardScaler): Scaler for the features.\n",
    "    - scaler_y (StandardScaler): Scaler for the target.\n",
    "    \"\"\"\n",
    "    # Load the dataset from CSV\n",
    "    df = df\n",
    "\n",
    "    # Drop rows with missing values to ensure data quality\n",
    "    df = df.dropna()\n",
    "\n",
    "    # Convert mid_date to datetime\n",
    "    df['mid_date'] = pd.to_datetime(df['mid_date'])\n",
    "\n",
    "    # Convert datetime to an ordinal timestamp including time of day\n",
    "    # Ordinal date + fractional day (hours, minutes, seconds as a fraction of 86400 seconds)\n",
    "    df['ordinal'] = df['mid_date'].apply(\n",
    "        lambda x: x.toordinal() + (x.hour * 3600 + x.minute * 60 + x.second) / 86400.0\n",
    "    )\n",
    "\n",
    "    # Define features and target\n",
    "    features = ['ordinal', 'lat', 'lon']\n",
    "    target = 'v [m/yr]'\n",
    "\n",
    "    # Extract feature and target arrays\n",
    "    X = df[features].values\n",
    "    y = df[target].values\n",
    "\n",
    "    # Scale features\n",
    "    scaler_X = StandardScaler()\n",
    "    X_scaled = scaler_X.fit_transform(X)\n",
    "    print(X_scaled[:10])\n",
    "\n",
    "\n",
    "    # Scale target\n",
    "    scaler_y = StandardScaler()\n",
    "    y_scaled = scaler_y.fit_transform(y.reshape(-1, 1))\n",
    "    print(y_scaled[:10])\n",
    "    # Combine scaled features and target into a single array\n",
    "    data = np.hstack((X_scaled, y_scaled))\n",
    "\n",
    "    print(f\"Preprocessed data shape: {data.shape}\")\n",
    "    print(data[:2])\n",
    "    return data, scaler_X, scaler_y"
   ]
  },
  {
   "cell_type": "code",
   "execution_count": 7,
   "metadata": {
    "id": "0USRKfGFyQMj"
   },
   "outputs": [],
   "source": [
    "# Cell 3: Define the TimeSeriesDataset class\n",
    "class TimeSeriesDataset(Dataset):\n",
    "    \"\"\"Custom Dataset for time series data.\"\"\"\n",
    "    def __init__(self, data, seq_length):\n",
    "        self.data = data.astype(np.float32)\n",
    "        self.seq_length = seq_length\n",
    "\n",
    "    def __len__(self):\n",
    "        return len(self.data) - self.seq_length\n",
    "\n",
    "    def __getitem__(self, idx):\n",
    "        \"\"\"Return sequence of features and target.\"\"\"\n",
    "        X = self.data[idx:idx + self.seq_length, :-1]  # All features except target\n",
    "        y = self.data[idx + self.seq_length - 1, -1]   # Last velocity value in sequence\n",
    "        return torch.tensor(X, dtype=torch.float32), torch.tensor(y, dtype=torch.float32)\n"
   ]
  },
  {
   "cell_type": "code",
   "execution_count": 8,
   "metadata": {
    "id": "3vU_kHEryKFS"
   },
   "outputs": [],
   "source": [
    "# Cell 4: Define the Transformer model\n",
    "class TransformerRegressor(nn.Module):\n",
    "    \"\"\"Transformer model for velocity prediction.\"\"\"\n",
    "    def __init__(self, input_dim, d_model, nhead, num_layers, dropout=0.1):\n",
    "        super(TransformerRegressor, self).__init__()\n",
    "        self.embedding = nn.Linear(input_dim, d_model)\n",
    "        self.pos_encoder = nn.Parameter(torch.zeros(1, 1000, d_model))  # Positional encoding\n",
    "        encoder_layer = nn.TransformerEncoderLayer(\n",
    "            d_model=d_model, nhead=nhead, dropout=dropout, batch_first=True\n",
    "        )\n",
    "        self.transformer_encoder = nn.TransformerEncoder(encoder_layer, num_layers=num_layers)\n",
    "        self.fc = nn.Linear(d_model, 1)\n",
    "\n",
    "        # Initialize weights\n",
    "        self._init_weights()\n",
    "\n",
    "    def _init_weights(self):\n",
    "        \"\"\"Initialize model weights.\"\"\"\n",
    "        for p in self.parameters():\n",
    "            if p.dim() > 1:\n",
    "                nn.init.xavier_uniform_(p)\n",
    "\n",
    "    def forward(self, x):\n",
    "        \"\"\"Forward pass through the model.\"\"\"\n",
    "        batch_size, seq_len, _ = x.size()\n",
    "        x = self.embedding(x)  # [batch_size, seq_len, d_model]\n",
    "        x = x + self.pos_encoder[:, :seq_len, :]  # Add positional encoding\n",
    "        x = self.transformer_encoder(x)  # [batch_size, seq_len, d_model]\n",
    "        x = self.fc(x[:, -1, :])  # Predict from last time step\n",
    "        return x"
   ]
  },
  {
   "cell_type": "code",
   "execution_count": 9,
   "metadata": {
    "id": "ettnh0rjyH9U"
   },
   "outputs": [],
   "source": [
    "# Cell 5: Training function with metric tracking\n",
    "import torch\n",
    "from tqdm import tqdm\n",
    "import matplotlib.pyplot as plt\n",
    "\n",
    "def count_trainable_parameters(model):\n",
    "    \"\"\"\n",
    "    Count and return the number of trainable parameters in the model.\n",
    "    \n",
    "    Parameters:\n",
    "    - model (nn.Module): The PyTorch model.\n",
    "    \n",
    "    Returns:\n",
    "    - int: Number of trainable parameters.\n",
    "    \"\"\"\n",
    "    return sum(p.numel() for p in model.parameters() if p.requires_grad)\n",
    "\n",
    "def train_model(model, train_loader, val_loader, criterion, optimizer, scheduler, scaler, num_epochs):\n",
    "    \"\"\"Train the model and track metrics.\"\"\"\n",
    "    # Print the number of trainable parameters before starting training\n",
    "    trainable_params = count_trainable_parameters(model)\n",
    "    print(f\"Number of trainable parameters: {trainable_params}\")\n",
    "    \n",
    "    # Lists to store metrics for plotting later\n",
    "    train_losses, val_losses, val_maes = [], [], []\n",
    "\n",
    "    for epoch in range(num_epochs):\n",
    "        # Training phase\n",
    "        model.train()\n",
    "        train_loss = 0\n",
    "        pbar_train = tqdm(train_loader, desc=f\"Epoch {epoch+1}/{num_epochs} [Train]\")\n",
    "        for X, y in pbar_train:\n",
    "            X, y = X.to(device), y.to(device)\n",
    "            optimizer.zero_grad()\n",
    "            # Updated autocast syntax to kill that warning\n",
    "            with torch.amp.autocast('cuda'):\n",
    "                output = model(X)\n",
    "                loss = criterion(output.squeeze(), y)\n",
    "            scaler.scale(loss).backward()\n",
    "            scaler.step(optimizer)\n",
    "            scaler.update()\n",
    "            train_loss += loss.item()\n",
    "            # Show the batch loss in the progress bar\n",
    "            pbar_train.set_postfix({'loss': loss.item()})\n",
    "\n",
    "        # Average train loss for the epoch\n",
    "        train_loss /= len(train_loader)\n",
    "        train_losses.append(train_loss)\n",
    "\n",
    "        # Validation phase\n",
    "        model.eval()\n",
    "        val_loss, val_mae = 0, 0\n",
    "        pbar_val = tqdm(val_loader, desc=f\"Epoch {epoch+1}/{num_epochs} [Val]\")\n",
    "        with torch.no_grad():\n",
    "            for X, y in pbar_val:\n",
    "                X, y = X.to(device), y.to(device)\n",
    "                with torch.amp.autocast('cuda'):\n",
    "                    output = model(X)\n",
    "                loss = criterion(output.squeeze(), y)\n",
    "                val_loss += loss.item()\n",
    "                val_mae += torch.mean(torch.abs(output.squeeze() - y)).item()\n",
    "                # Show batch loss and MAE in the progress bar\n",
    "                pbar_val.set_postfix({'loss': loss.item(), 'MAE': val_mae / len(val_loader)})\n",
    "\n",
    "        # Average val loss and MAE for the epoch\n",
    "        val_loss /= len(val_loader)\n",
    "        val_mae /= len(val_loader)\n",
    "        val_losses.append(val_loss)\n",
    "        val_maes.append(val_mae)\n",
    "\n",
    "        # Print all the metrics after each epoch\n",
    "        print(f\"Epoch {epoch+1}/{num_epochs} - Train Loss: {train_loss:.4f}, \"\n",
    "              f\"Val Loss: {val_loss:.4f}, Val MAE: {val_mae:.4f}\")\n",
    "\n",
    "        # Step the scheduler based on val loss\n",
    "        scheduler.step(val_loss)\n",
    "\n",
    "    # Return the metrics for plotting or analysis\n",
    "    return train_losses, val_losses, val_maes"
   ]
  },
  {
   "cell_type": "code",
   "execution_count": 10,
   "metadata": {
    "colab": {
     "base_uri": "https://localhost:8080/"
    },
    "id": "QsdhacGtxgYg",
    "outputId": "6781c329-1d58-4a85-d46e-412d0f0bade8"
   },
   "outputs": [
    {
     "data": {
      "text/plain": [
       "True"
      ]
     },
     "execution_count": 10,
     "metadata": {},
     "output_type": "execute_result"
    }
   ],
   "source": [
    "torch.cuda.is_available()"
   ]
  },
  {
   "cell_type": "code",
   "execution_count": null,
   "metadata": {
    "colab": {
     "base_uri": "https://localhost:8080/"
    },
    "id": "Q119Sy31vR_x",
    "outputId": "a543b791-64f7-4876-b8c2-62e3b5684a4d"
   },
   "outputs": [
    {
     "name": "stdout",
     "output_type": "stream",
     "text": [
      "[[-1.13170407 -1.21171553 -1.53647779]\n",
      " [-2.14260557 -1.21171553 -1.53647779]\n",
      " [ 1.16946014 -1.21171553 -1.53647779]\n",
      " [ 0.10504015 -1.21171553 -1.53647779]\n",
      " [-0.81730098 -1.21171553 -1.53647779]\n",
      " [-2.17257401 -1.21171553 -1.53647779]\n",
      " [-0.22461526 -1.21171553 -1.53647779]\n",
      " [ 0.69451262 -1.21171553 -1.53647779]\n",
      " [-1.50042199 -1.21171553 -1.53647779]\n",
      " [-1.45332853 -1.21171553 -1.53647779]]\n",
      "[[ 0.09592376]\n",
      " [ 1.31282827]\n",
      " [-0.29522411]\n",
      " [-0.2300328 ]\n",
      " [ 1.63878484]\n",
      " [ 2.66011541]\n",
      " [-0.31695455]\n",
      " [-0.31695455]\n",
      " [-0.2300328 ]\n",
      " [-0.25176324]]\n",
      "Preprocessed data shape: (40994766, 4)\n",
      "[[-1.13170407 -1.21171553 -1.53647779  0.09592376]\n",
      " [-2.14260557 -1.21171553 -1.53647779  1.31282827]]\n"
     ]
    },
    {
     "name": "stderr",
     "output_type": "stream",
     "text": [
      "/tmp/ipykernel_15474/2729104912.py:42: FutureWarning: `torch.cuda.amp.GradScaler(args...)` is deprecated. Please use `torch.amp.GradScaler('cuda', args...)` instead.\n",
      "  scaler = GradScaler()\n"
     ]
    }
   ],
   "source": [
    "# Cell 6: Main execution\n",
    "if __name__ == \"__main__\":\n",
    "    # Hyperparameters (adjustable for experimentation)\n",
    "    SEQ_LENGTH = 32       # Sequence length\n",
    "    BATCH_SIZE = 2048         # Batch size\n",
    "    NUM_EPOCHS = 50          # Number of epochs\n",
    "    LEARNING_RATE = 0.0001    # Learning rate\n",
    "    D_MODEL = 128            # Model dimension\n",
    "    NHEAD = 8                # Number of attention heads\n",
    "    NUM_LAYERS = 4           # Number of transformer layers\n",
    "    DROPOUT = 0.2           # Dropout rate\n",
    "\n",
    "    # Load and preprocess data\n",
    "    # file_path = '/kaggle/input/df-raw-fydp/df_raw.csv'\n",
    "    file_path = 'C:\\Users\\aadee\\OneDrive\\Desktop\\GLOF Final\\prepared_dataset.csv'\n",
    "\n",
    "    data, scaler_X, scaler_y = load_and_preprocess_data(df)\n",
    "\n",
    "    # Split data into train, validation, and test sets\n",
    "    train_size = int(0.7 * len(data))\n",
    "    val_size = int(0.2 * len(data))\n",
    "    train_data = data[:train_size]\n",
    "    val_data = data[train_size:train_size + val_size]\n",
    "    test_data = data[train_size + val_size:]\n",
    "\n",
    "    # Create datasets and dataloaders\n",
    "    train_dataset = TimeSeriesDataset(train_data, SEQ_LENGTH)\n",
    "    val_dataset = TimeSeriesDataset(val_data, SEQ_LENGTH)\n",
    "    test_dataset = TimeSeriesDataset(test_data, SEQ_LENGTH)\n",
    "\n",
    "    train_loader = DataLoader(train_dataset, batch_size=BATCH_SIZE, shuffle=True, num_workers=4)\n",
    "    val_loader = DataLoader(val_dataset, batch_size=BATCH_SIZE, shuffle=False, num_workers=4)\n",
    "    test_loader = DataLoader(test_dataset, batch_size=BATCH_SIZE, shuffle=False, num_workers=4)\n",
    "\n",
    "    # Initialize model, loss, optimizer, and scheduler\n",
    "    model = TransformerRegressor(\n",
    "        input_dim=3, d_model=D_MODEL, nhead=NHEAD, num_layers=NUM_LAYERS, dropout=DROPOUT\n",
    "    ).to(device)\n",
    "    criterion = nn.MSELoss()\n",
    "    optimizer = optim.AdamW(model.parameters(), lr=LEARNING_RATE)\n",
    "    scheduler = optim.lr_scheduler.ReduceLROnPlateau(optimizer, 'min', patience=2)\n",
    "    scaler = GradScaler()\n"
   ]
  },
  {
   "cell_type": "code",
   "execution_count": 12,
   "metadata": {},
   "outputs": [
    {
     "name": "stdout",
     "output_type": "stream",
     "text": [
      "done\n"
     ]
    }
   ],
   "source": [
    "print('done')"
   ]
  },
  {
   "cell_type": "code",
   "execution_count": 13,
   "metadata": {
    "colab": {
     "base_uri": "https://localhost:8080/"
    },
    "id": "llHmep51x3mK",
    "outputId": "a6c0cd65-f237-4e5c-a036-c83e7f7e95ab"
   },
   "outputs": [
    {
     "name": "stdout",
     "output_type": "stream",
     "text": [
      "Number of trainable parameters: 2500737\n"
     ]
    },
    {
     "name": "stderr",
     "output_type": "stream",
     "text": [
      "Epoch 1/50 [Train]: 100%|██████████| 14012/14012 [17:49<00:00, 13.10it/s, loss=0.987]\n",
      "Epoch 1/50 [Val]: 100%|██████████| 4004/4004 [01:27<00:00, 45.52it/s, loss=1.18, MAE=0.397]  \n"
     ]
    },
    {
     "name": "stdout",
     "output_type": "stream",
     "text": [
      "Epoch 1/50 - Train Loss: 1.0111, Val Loss: 0.8696, Val MAE: 0.3969\n"
     ]
    },
    {
     "name": "stderr",
     "output_type": "stream",
     "text": [
      "Epoch 2/50 [Train]: 100%|██████████| 14012/14012 [17:48<00:00, 13.11it/s, loss=0.697]\n",
      "Epoch 2/50 [Val]: 100%|██████████| 4004/4004 [01:27<00:00, 45.63it/s, loss=1.12, MAE=0.413] \n"
     ]
    },
    {
     "name": "stdout",
     "output_type": "stream",
     "text": [
      "Epoch 2/50 - Train Loss: 0.9498, Val Loss: 0.8023, Val MAE: 0.4132\n"
     ]
    },
    {
     "name": "stderr",
     "output_type": "stream",
     "text": [
      "Epoch 3/50 [Train]: 100%|██████████| 14012/14012 [17:48<00:00, 13.12it/s, loss=0.812]\n",
      "Epoch 3/50 [Val]: 100%|██████████| 4004/4004 [01:28<00:00, 45.40it/s, loss=0.909, MAE=0.399] \n"
     ]
    },
    {
     "name": "stdout",
     "output_type": "stream",
     "text": [
      "Epoch 3/50 - Train Loss: 0.8711, Val Loss: 0.7067, Val MAE: 0.3993\n"
     ]
    },
    {
     "name": "stderr",
     "output_type": "stream",
     "text": [
      "Epoch 4/50 [Train]: 100%|██████████| 14012/14012 [17:48<00:00, 13.12it/s, loss=0.441]\n",
      "Epoch 4/50 [Val]: 100%|██████████| 4004/4004 [01:28<00:00, 45.41it/s, loss=0.856, MAE=0.379] \n"
     ]
    },
    {
     "name": "stdout",
     "output_type": "stream",
     "text": [
      "Epoch 4/50 - Train Loss: 0.7599, Val Loss: 0.6711, Val MAE: 0.3793\n"
     ]
    },
    {
     "name": "stderr",
     "output_type": "stream",
     "text": [
      "Epoch 5/50 [Train]: 100%|██████████| 14012/14012 [17:47<00:00, 13.12it/s, loss=0.512]\n",
      "Epoch 5/50 [Val]: 100%|██████████| 4004/4004 [01:28<00:00, 45.20it/s, loss=1, MAE=0.369]     \n"
     ]
    },
    {
     "name": "stdout",
     "output_type": "stream",
     "text": [
      "Epoch 5/50 - Train Loss: 0.6698, Val Loss: 0.6532, Val MAE: 0.3688\n"
     ]
    },
    {
     "name": "stderr",
     "output_type": "stream",
     "text": [
      "Epoch 6/50 [Train]: 100%|██████████| 14012/14012 [17:47<00:00, 13.13it/s, loss=0.566]\n",
      "Epoch 6/50 [Val]: 100%|██████████| 4004/4004 [01:27<00:00, 45.55it/s, loss=0.673, MAE=0.348] \n"
     ]
    },
    {
     "name": "stdout",
     "output_type": "stream",
     "text": [
      "Epoch 6/50 - Train Loss: 0.6191, Val Loss: 0.5635, Val MAE: 0.3481\n"
     ]
    },
    {
     "name": "stderr",
     "output_type": "stream",
     "text": [
      "Epoch 7/50 [Train]: 100%|██████████| 14012/14012 [17:48<00:00, 13.12it/s, loss=0.357]\n",
      "Epoch 7/50 [Val]: 100%|██████████| 4004/4004 [01:28<00:00, 45.45it/s, loss=0.763, MAE=0.335] \n"
     ]
    },
    {
     "name": "stdout",
     "output_type": "stream",
     "text": [
      "Epoch 7/50 - Train Loss: 0.5819, Val Loss: 0.5620, Val MAE: 0.3347\n"
     ]
    },
    {
     "name": "stderr",
     "output_type": "stream",
     "text": [
      "Epoch 8/50 [Train]: 100%|██████████| 14012/14012 [17:47<00:00, 13.13it/s, loss=0.433]\n",
      "Epoch 8/50 [Val]: 100%|██████████| 4004/4004 [01:28<00:00, 45.37it/s, loss=0.807, MAE=0.338] \n"
     ]
    },
    {
     "name": "stdout",
     "output_type": "stream",
     "text": [
      "Epoch 8/50 - Train Loss: 0.5479, Val Loss: 0.5476, Val MAE: 0.3379\n"
     ]
    },
    {
     "name": "stderr",
     "output_type": "stream",
     "text": [
      "Epoch 9/50 [Train]: 100%|██████████| 14012/14012 [17:47<00:00, 13.13it/s, loss=0.448]\n",
      "Epoch 9/50 [Val]: 100%|██████████| 4004/4004 [01:28<00:00, 45.38it/s, loss=0.749, MAE=0.327] \n"
     ]
    },
    {
     "name": "stdout",
     "output_type": "stream",
     "text": [
      "Epoch 9/50 - Train Loss: 0.5188, Val Loss: 0.5092, Val MAE: 0.3266\n"
     ]
    },
    {
     "name": "stderr",
     "output_type": "stream",
     "text": [
      "Epoch 10/50 [Train]: 100%|██████████| 14012/14012 [17:47<00:00, 13.12it/s, loss=0.586]\n",
      "Epoch 10/50 [Val]: 100%|██████████| 4004/4004 [01:28<00:00, 45.39it/s, loss=0.786, MAE=0.325] \n"
     ]
    },
    {
     "name": "stdout",
     "output_type": "stream",
     "text": [
      "Epoch 10/50 - Train Loss: 0.4929, Val Loss: 0.5039, Val MAE: 0.3246\n"
     ]
    },
    {
     "name": "stderr",
     "output_type": "stream",
     "text": [
      "Epoch 11/50 [Train]: 100%|██████████| 14012/14012 [17:47<00:00, 13.12it/s, loss=0.465]\n",
      "Epoch 11/50 [Val]: 100%|██████████| 4004/4004 [01:28<00:00, 45.31it/s, loss=0.628, MAE=0.327] \n"
     ]
    },
    {
     "name": "stdout",
     "output_type": "stream",
     "text": [
      "Epoch 11/50 - Train Loss: 0.4718, Val Loss: 0.4948, Val MAE: 0.3269\n"
     ]
    },
    {
     "name": "stderr",
     "output_type": "stream",
     "text": [
      "Epoch 12/50 [Train]: 100%|██████████| 14012/14012 [17:49<00:00, 13.10it/s, loss=0.39] \n",
      "Epoch 12/50 [Val]: 100%|██████████| 4004/4004 [01:28<00:00, 45.46it/s, loss=0.486, MAE=0.313] \n"
     ]
    },
    {
     "name": "stdout",
     "output_type": "stream",
     "text": [
      "Epoch 12/50 - Train Loss: 0.4532, Val Loss: 0.4592, Val MAE: 0.3131\n"
     ]
    },
    {
     "name": "stderr",
     "output_type": "stream",
     "text": [
      "Epoch 13/50 [Train]: 100%|██████████| 14012/14012 [17:48<00:00, 13.12it/s, loss=0.555]\n",
      "Epoch 13/50 [Val]: 100%|██████████| 4004/4004 [01:28<00:00, 45.15it/s, loss=0.628, MAE=0.324] \n"
     ]
    },
    {
     "name": "stdout",
     "output_type": "stream",
     "text": [
      "Epoch 13/50 - Train Loss: 0.4373, Val Loss: 0.4920, Val MAE: 0.3242\n"
     ]
    },
    {
     "name": "stderr",
     "output_type": "stream",
     "text": [
      "Epoch 14/50 [Train]: 100%|██████████| 14012/14012 [17:48<00:00, 13.12it/s, loss=0.305]\n",
      "Epoch 14/50 [Val]: 100%|██████████| 4004/4004 [01:28<00:00, 45.29it/s, loss=0.64, MAE=0.313]  \n"
     ]
    },
    {
     "name": "stdout",
     "output_type": "stream",
     "text": [
      "Epoch 14/50 - Train Loss: 0.4236, Val Loss: 0.4637, Val MAE: 0.3129\n"
     ]
    },
    {
     "name": "stderr",
     "output_type": "stream",
     "text": [
      "Epoch 15/50 [Train]: 100%|██████████| 14012/14012 [17:48<00:00, 13.11it/s, loss=0.25] \n",
      "Epoch 15/50 [Val]: 100%|██████████| 4004/4004 [01:28<00:00, 45.44it/s, loss=0.782, MAE=0.3]   \n"
     ]
    },
    {
     "name": "stdout",
     "output_type": "stream",
     "text": [
      "Epoch 15/50 - Train Loss: 0.4112, Val Loss: 0.4428, Val MAE: 0.2999\n"
     ]
    },
    {
     "name": "stderr",
     "output_type": "stream",
     "text": [
      "Epoch 16/50 [Train]: 100%|██████████| 14012/14012 [17:47<00:00, 13.12it/s, loss=0.291]\n",
      "Epoch 16/50 [Val]: 100%|██████████| 4004/4004 [01:28<00:00, 45.50it/s, loss=0.629, MAE=0.299] \n"
     ]
    },
    {
     "name": "stdout",
     "output_type": "stream",
     "text": [
      "Epoch 16/50 - Train Loss: 0.4016, Val Loss: 0.4399, Val MAE: 0.2991\n"
     ]
    },
    {
     "name": "stderr",
     "output_type": "stream",
     "text": [
      "Epoch 17/50 [Train]: 100%|██████████| 14012/14012 [17:48<00:00, 13.12it/s, loss=0.373]\n",
      "Epoch 17/50 [Val]: 100%|██████████| 4004/4004 [01:28<00:00, 45.31it/s, loss=0.717, MAE=0.312] \n"
     ]
    },
    {
     "name": "stdout",
     "output_type": "stream",
     "text": [
      "Epoch 17/50 - Train Loss: 0.3926, Val Loss: 0.4589, Val MAE: 0.3120\n"
     ]
    },
    {
     "name": "stderr",
     "output_type": "stream",
     "text": [
      "Epoch 18/50 [Train]: 100%|██████████| 14012/14012 [17:48<00:00, 13.11it/s, loss=0.313]\n",
      "Epoch 18/50 [Val]: 100%|██████████| 4004/4004 [01:27<00:00, 45.54it/s, loss=0.552, MAE=0.292] \n"
     ]
    },
    {
     "name": "stdout",
     "output_type": "stream",
     "text": [
      "Epoch 18/50 - Train Loss: 0.3848, Val Loss: 0.4255, Val MAE: 0.2923\n"
     ]
    },
    {
     "name": "stderr",
     "output_type": "stream",
     "text": [
      "Epoch 19/50 [Train]: 100%|██████████| 14012/14012 [17:49<00:00, 13.10it/s, loss=0.311]\n",
      "Epoch 19/50 [Val]: 100%|██████████| 4004/4004 [01:27<00:00, 45.55it/s, loss=0.625, MAE=0.3]   \n"
     ]
    },
    {
     "name": "stdout",
     "output_type": "stream",
     "text": [
      "Epoch 19/50 - Train Loss: 0.3780, Val Loss: 0.4225, Val MAE: 0.3001\n"
     ]
    },
    {
     "name": "stderr",
     "output_type": "stream",
     "text": [
      "Epoch 20/50 [Train]: 100%|██████████| 14012/14012 [17:48<00:00, 13.11it/s, loss=0.313]\n",
      "Epoch 20/50 [Val]: 100%|██████████| 4004/4004 [01:27<00:00, 45.73it/s, loss=0.689, MAE=0.286] \n"
     ]
    },
    {
     "name": "stdout",
     "output_type": "stream",
     "text": [
      "Epoch 20/50 - Train Loss: 0.3719, Val Loss: 0.4141, Val MAE: 0.2860\n"
     ]
    },
    {
     "name": "stderr",
     "output_type": "stream",
     "text": [
      "Epoch 21/50 [Train]: 100%|██████████| 14012/14012 [17:49<00:00, 13.10it/s, loss=0.295]\n",
      "Epoch 21/50 [Val]: 100%|██████████| 4004/4004 [01:28<00:00, 45.39it/s, loss=0.674, MAE=0.289] \n"
     ]
    },
    {
     "name": "stdout",
     "output_type": "stream",
     "text": [
      "Epoch 21/50 - Train Loss: 0.3657, Val Loss: 0.4172, Val MAE: 0.2892\n"
     ]
    },
    {
     "name": "stderr",
     "output_type": "stream",
     "text": [
      "Epoch 22/50 [Train]: 100%|██████████| 14012/14012 [17:48<00:00, 13.12it/s, loss=0.289]\n",
      "Epoch 22/50 [Val]: 100%|██████████| 4004/4004 [01:28<00:00, 45.35it/s, loss=0.548, MAE=0.283] \n"
     ]
    },
    {
     "name": "stdout",
     "output_type": "stream",
     "text": [
      "Epoch 22/50 - Train Loss: 0.3613, Val Loss: 0.4016, Val MAE: 0.2830\n"
     ]
    },
    {
     "name": "stderr",
     "output_type": "stream",
     "text": [
      "Epoch 23/50 [Train]: 100%|██████████| 14012/14012 [17:48<00:00, 13.12it/s, loss=0.251]\n",
      "Epoch 23/50 [Val]: 100%|██████████| 4004/4004 [01:28<00:00, 45.32it/s, loss=0.541, MAE=0.281] \n"
     ]
    },
    {
     "name": "stdout",
     "output_type": "stream",
     "text": [
      "Epoch 23/50 - Train Loss: 0.3567, Val Loss: 0.4054, Val MAE: 0.2814\n"
     ]
    },
    {
     "name": "stderr",
     "output_type": "stream",
     "text": [
      "Epoch 24/50 [Train]: 100%|██████████| 14012/14012 [17:47<00:00, 13.12it/s, loss=0.277]\n",
      "Epoch 24/50 [Val]: 100%|██████████| 4004/4004 [01:28<00:00, 45.30it/s, loss=0.637, MAE=0.274] \n"
     ]
    },
    {
     "name": "stdout",
     "output_type": "stream",
     "text": [
      "Epoch 24/50 - Train Loss: 0.3526, Val Loss: 0.4045, Val MAE: 0.2744\n"
     ]
    },
    {
     "name": "stderr",
     "output_type": "stream",
     "text": [
      "Epoch 25/50 [Train]: 100%|██████████| 14012/14012 [17:48<00:00, 13.11it/s, loss=0.326]\n",
      "Epoch 25/50 [Val]: 100%|██████████| 4004/4004 [01:28<00:00, 45.17it/s, loss=0.634, MAE=0.292] \n"
     ]
    },
    {
     "name": "stdout",
     "output_type": "stream",
     "text": [
      "Epoch 25/50 - Train Loss: 0.3484, Val Loss: 0.4315, Val MAE: 0.2919\n"
     ]
    },
    {
     "name": "stderr",
     "output_type": "stream",
     "text": [
      "Epoch 26/50 [Train]: 100%|██████████| 14012/14012 [17:47<00:00, 13.12it/s, loss=0.206]\n",
      "Epoch 26/50 [Val]: 100%|██████████| 4004/4004 [01:28<00:00, 45.36it/s, loss=0.638, MAE=0.277] \n"
     ]
    },
    {
     "name": "stdout",
     "output_type": "stream",
     "text": [
      "Epoch 26/50 - Train Loss: 0.3292, Val Loss: 0.3912, Val MAE: 0.2766\n"
     ]
    },
    {
     "name": "stderr",
     "output_type": "stream",
     "text": [
      "Epoch 27/50 [Train]: 100%|██████████| 14012/14012 [17:48<00:00, 13.12it/s, loss=0.303]\n",
      "Epoch 27/50 [Val]: 100%|██████████| 4004/4004 [01:28<00:00, 45.27it/s, loss=0.644, MAE=0.273] \n"
     ]
    },
    {
     "name": "stdout",
     "output_type": "stream",
     "text": [
      "Epoch 27/50 - Train Loss: 0.3252, Val Loss: 0.3880, Val MAE: 0.2725\n"
     ]
    },
    {
     "name": "stderr",
     "output_type": "stream",
     "text": [
      "Epoch 28/50 [Train]: 100%|██████████| 14012/14012 [17:48<00:00, 13.11it/s, loss=0.24] \n",
      "Epoch 28/50 [Val]: 100%|██████████| 4004/4004 [01:28<00:00, 45.19it/s, loss=0.629, MAE=0.27]  \n"
     ]
    },
    {
     "name": "stdout",
     "output_type": "stream",
     "text": [
      "Epoch 28/50 - Train Loss: 0.3233, Val Loss: 0.3841, Val MAE: 0.2695\n"
     ]
    },
    {
     "name": "stderr",
     "output_type": "stream",
     "text": [
      "Epoch 29/50 [Train]: 100%|██████████| 14012/14012 [17:48<00:00, 13.11it/s, loss=0.232]\n",
      "Epoch 29/50 [Val]: 100%|██████████| 4004/4004 [01:28<00:00, 45.33it/s, loss=0.672, MAE=0.27]  \n"
     ]
    },
    {
     "name": "stdout",
     "output_type": "stream",
     "text": [
      "Epoch 29/50 - Train Loss: 0.3222, Val Loss: 0.3861, Val MAE: 0.2704\n"
     ]
    },
    {
     "name": "stderr",
     "output_type": "stream",
     "text": [
      "Epoch 30/50 [Train]: 100%|██████████| 14012/14012 [17:48<00:00, 13.11it/s, loss=0.211]\n",
      "Epoch 30/50 [Val]: 100%|██████████| 4004/4004 [01:28<00:00, 45.34it/s, loss=0.591, MAE=0.27]  \n"
     ]
    },
    {
     "name": "stdout",
     "output_type": "stream",
     "text": [
      "Epoch 30/50 - Train Loss: 0.3208, Val Loss: 0.3855, Val MAE: 0.2700\n"
     ]
    },
    {
     "name": "stderr",
     "output_type": "stream",
     "text": [
      "Epoch 31/50 [Train]: 100%|██████████| 14012/14012 [17:47<00:00, 13.12it/s, loss=0.288]\n",
      "Epoch 31/50 [Val]: 100%|██████████| 4004/4004 [01:28<00:00, 45.38it/s, loss=0.652, MAE=0.272] \n"
     ]
    },
    {
     "name": "stdout",
     "output_type": "stream",
     "text": [
      "Epoch 31/50 - Train Loss: 0.3199, Val Loss: 0.3885, Val MAE: 0.2720\n"
     ]
    },
    {
     "name": "stderr",
     "output_type": "stream",
     "text": [
      "Epoch 32/50 [Train]: 100%|██████████| 14012/14012 [17:48<00:00, 13.11it/s, loss=0.925]\n",
      "Epoch 32/50 [Val]: 100%|██████████| 4004/4004 [01:28<00:00, 45.36it/s, loss=0.636, MAE=0.271] \n"
     ]
    },
    {
     "name": "stdout",
     "output_type": "stream",
     "text": [
      "Epoch 32/50 - Train Loss: 0.3182, Val Loss: 0.3871, Val MAE: 0.2711\n"
     ]
    },
    {
     "name": "stderr",
     "output_type": "stream",
     "text": [
      "Epoch 33/50 [Train]: 100%|██████████| 14012/14012 [17:48<00:00, 13.12it/s, loss=0.358]\n",
      "Epoch 33/50 [Val]: 100%|██████████| 4004/4004 [01:28<00:00, 45.30it/s, loss=0.639, MAE=0.269] \n"
     ]
    },
    {
     "name": "stdout",
     "output_type": "stream",
     "text": [
      "Epoch 33/50 - Train Loss: 0.3177, Val Loss: 0.3851, Val MAE: 0.2693\n"
     ]
    },
    {
     "name": "stderr",
     "output_type": "stream",
     "text": [
      "Epoch 34/50 [Train]: 100%|██████████| 14012/14012 [17:48<00:00, 13.12it/s, loss=0.271]\n",
      "Epoch 34/50 [Val]: 100%|██████████| 4004/4004 [01:28<00:00, 45.28it/s, loss=0.633, MAE=0.27]  \n"
     ]
    },
    {
     "name": "stdout",
     "output_type": "stream",
     "text": [
      "Epoch 34/50 - Train Loss: 0.3173, Val Loss: 0.3865, Val MAE: 0.2703\n"
     ]
    },
    {
     "name": "stderr",
     "output_type": "stream",
     "text": [
      "Epoch 35/50 [Train]: 100%|██████████| 14012/14012 [17:48<00:00, 13.12it/s, loss=0.23] \n",
      "Epoch 35/50 [Val]: 100%|██████████| 4004/4004 [01:28<00:00, 45.36it/s, loss=0.632, MAE=0.27]  \n"
     ]
    },
    {
     "name": "stdout",
     "output_type": "stream",
     "text": [
      "Epoch 35/50 - Train Loss: 0.3171, Val Loss: 0.3867, Val MAE: 0.2704\n"
     ]
    },
    {
     "name": "stderr",
     "output_type": "stream",
     "text": [
      "Epoch 36/50 [Train]: 100%|██████████| 14012/14012 [17:47<00:00, 13.12it/s, loss=0.318]\n",
      "Epoch 36/50 [Val]: 100%|██████████| 4004/4004 [01:28<00:00, 45.39it/s, loss=0.632, MAE=0.27]  \n"
     ]
    },
    {
     "name": "stdout",
     "output_type": "stream",
     "text": [
      "Epoch 36/50 - Train Loss: 0.3168, Val Loss: 0.3867, Val MAE: 0.2704\n"
     ]
    },
    {
     "name": "stderr",
     "output_type": "stream",
     "text": [
      "Epoch 37/50 [Train]: 100%|██████████| 14012/14012 [17:48<00:00, 13.12it/s, loss=0.299]\n",
      "Epoch 37/50 [Val]: 100%|██████████| 4004/4004 [01:28<00:00, 45.43it/s, loss=0.63, MAE=0.271]  \n"
     ]
    },
    {
     "name": "stdout",
     "output_type": "stream",
     "text": [
      "Epoch 37/50 - Train Loss: 0.3167, Val Loss: 0.3872, Val MAE: 0.2707\n"
     ]
    },
    {
     "name": "stderr",
     "output_type": "stream",
     "text": [
      "Epoch 38/50 [Train]: 100%|██████████| 14012/14012 [17:47<00:00, 13.13it/s, loss=0.227]\n",
      "Epoch 38/50 [Val]: 100%|██████████| 4004/4004 [01:27<00:00, 45.56it/s, loss=0.63, MAE=0.271]  \n"
     ]
    },
    {
     "name": "stdout",
     "output_type": "stream",
     "text": [
      "Epoch 38/50 - Train Loss: 0.3171, Val Loss: 0.3874, Val MAE: 0.2707\n"
     ]
    },
    {
     "name": "stderr",
     "output_type": "stream",
     "text": [
      "Epoch 39/50 [Train]: 100%|██████████| 14012/14012 [17:48<00:00, 13.11it/s, loss=0.45] \n",
      "Epoch 39/50 [Val]: 100%|██████████| 4004/4004 [01:27<00:00, 46.01it/s, loss=0.63, MAE=0.271]  \n"
     ]
    },
    {
     "name": "stdout",
     "output_type": "stream",
     "text": [
      "Epoch 39/50 - Train Loss: 0.3171, Val Loss: 0.3875, Val MAE: 0.2708\n"
     ]
    },
    {
     "name": "stderr",
     "output_type": "stream",
     "text": [
      "Epoch 40/50 [Train]: 100%|██████████| 14012/14012 [17:48<00:00, 13.12it/s, loss=0.244]\n",
      "Epoch 40/50 [Val]: 100%|██████████| 4004/4004 [01:28<00:00, 45.41it/s, loss=0.63, MAE=0.271]  \n"
     ]
    },
    {
     "name": "stdout",
     "output_type": "stream",
     "text": [
      "Epoch 40/50 - Train Loss: 0.3171, Val Loss: 0.3876, Val MAE: 0.2708\n"
     ]
    },
    {
     "name": "stderr",
     "output_type": "stream",
     "text": [
      "Epoch 41/50 [Train]: 100%|██████████| 14012/14012 [17:47<00:00, 13.13it/s, loss=0.698]\n",
      "Epoch 41/50 [Val]: 100%|██████████| 4004/4004 [01:28<00:00, 45.00it/s, loss=0.63, MAE=0.271]  \n"
     ]
    },
    {
     "name": "stdout",
     "output_type": "stream",
     "text": [
      "Epoch 41/50 - Train Loss: 0.3168, Val Loss: 0.3876, Val MAE: 0.2708\n"
     ]
    },
    {
     "name": "stderr",
     "output_type": "stream",
     "text": [
      "Epoch 42/50 [Train]: 100%|██████████| 14012/14012 [17:49<00:00, 13.11it/s, loss=0.241]\n",
      "Epoch 42/50 [Val]: 100%|██████████| 4004/4004 [01:26<00:00, 46.05it/s, loss=0.63, MAE=0.271]  \n"
     ]
    },
    {
     "name": "stdout",
     "output_type": "stream",
     "text": [
      "Epoch 42/50 - Train Loss: 0.3172, Val Loss: 0.3876, Val MAE: 0.2708\n"
     ]
    },
    {
     "name": "stderr",
     "output_type": "stream",
     "text": [
      "Epoch 43/50 [Train]: 100%|██████████| 14012/14012 [17:49<00:00, 13.10it/s, loss=0.785]\n",
      "Epoch 43/50 [Val]: 100%|██████████| 4004/4004 [01:27<00:00, 45.54it/s, loss=0.63, MAE=0.271]  \n"
     ]
    },
    {
     "name": "stdout",
     "output_type": "stream",
     "text": [
      "Epoch 43/50 - Train Loss: 0.3170, Val Loss: 0.3877, Val MAE: 0.2708\n"
     ]
    },
    {
     "name": "stderr",
     "output_type": "stream",
     "text": [
      "Epoch 44/50 [Train]: 100%|██████████| 14012/14012 [17:49<00:00, 13.11it/s, loss=0.221]\n",
      "Epoch 44/50 [Val]: 100%|██████████| 4004/4004 [01:27<00:00, 45.97it/s, loss=0.63, MAE=0.271]  \n"
     ]
    },
    {
     "name": "stdout",
     "output_type": "stream",
     "text": [
      "Epoch 44/50 - Train Loss: 0.3172, Val Loss: 0.3877, Val MAE: 0.2708\n"
     ]
    },
    {
     "name": "stderr",
     "output_type": "stream",
     "text": [
      "Epoch 45/50 [Train]: 100%|██████████| 14012/14012 [17:48<00:00, 13.12it/s, loss=0.31] \n",
      "Epoch 45/50 [Val]: 100%|██████████| 4004/4004 [01:28<00:00, 45.33it/s, loss=0.63, MAE=0.271]  \n"
     ]
    },
    {
     "name": "stdout",
     "output_type": "stream",
     "text": [
      "Epoch 45/50 - Train Loss: 0.3169, Val Loss: 0.3878, Val MAE: 0.2709\n"
     ]
    },
    {
     "name": "stderr",
     "output_type": "stream",
     "text": [
      "Epoch 46/50 [Train]: 100%|██████████| 14012/14012 [17:48<00:00, 13.12it/s, loss=0.298]\n",
      "Epoch 46/50 [Val]: 100%|██████████| 4004/4004 [01:28<00:00, 45.07it/s, loss=0.63, MAE=0.271]  \n"
     ]
    },
    {
     "name": "stdout",
     "output_type": "stream",
     "text": [
      "Epoch 46/50 - Train Loss: 0.3171, Val Loss: 0.3877, Val MAE: 0.2708\n"
     ]
    },
    {
     "name": "stderr",
     "output_type": "stream",
     "text": [
      "Epoch 47/50 [Train]: 100%|██████████| 14012/14012 [17:48<00:00, 13.12it/s, loss=0.292]\n",
      "Epoch 47/50 [Val]: 100%|██████████| 4004/4004 [01:28<00:00, 45.11it/s, loss=0.63, MAE=0.271]  \n"
     ]
    },
    {
     "name": "stdout",
     "output_type": "stream",
     "text": [
      "Epoch 47/50 - Train Loss: 0.3171, Val Loss: 0.3878, Val MAE: 0.2709\n"
     ]
    },
    {
     "name": "stderr",
     "output_type": "stream",
     "text": [
      "Epoch 48/50 [Train]: 100%|██████████| 14012/14012 [17:48<00:00, 13.11it/s, loss=0.329]\n",
      "Epoch 48/50 [Val]: 100%|██████████| 4004/4004 [01:28<00:00, 45.37it/s, loss=0.63, MAE=0.271]  \n"
     ]
    },
    {
     "name": "stdout",
     "output_type": "stream",
     "text": [
      "Epoch 48/50 - Train Loss: 0.3170, Val Loss: 0.3879, Val MAE: 0.2709\n"
     ]
    },
    {
     "name": "stderr",
     "output_type": "stream",
     "text": [
      "Epoch 49/50 [Train]: 100%|██████████| 14012/14012 [17:47<00:00, 13.12it/s, loss=0.236]\n",
      "Epoch 49/50 [Val]: 100%|██████████| 4004/4004 [01:28<00:00, 45.30it/s, loss=0.63, MAE=0.271]  \n"
     ]
    },
    {
     "name": "stdout",
     "output_type": "stream",
     "text": [
      "Epoch 49/50 - Train Loss: 0.3170, Val Loss: 0.3878, Val MAE: 0.2709\n"
     ]
    },
    {
     "name": "stderr",
     "output_type": "stream",
     "text": [
      "Epoch 50/50 [Train]: 100%|██████████| 14012/14012 [17:48<00:00, 13.11it/s, loss=0.288]\n",
      "Epoch 50/50 [Val]: 100%|██████████| 4004/4004 [01:28<00:00, 45.12it/s, loss=0.63, MAE=0.271]  "
     ]
    },
    {
     "name": "stdout",
     "output_type": "stream",
     "text": [
      "Epoch 50/50 - Train Loss: 0.3171, Val Loss: 0.3879, Val MAE: 0.2709\n"
     ]
    },
    {
     "name": "stderr",
     "output_type": "stream",
     "text": [
      "\n"
     ]
    }
   ],
   "source": [
    "# Train the model\n",
    "if(True):\n",
    "    train_losses, val_losses, val_maes = train_model(\n",
    "        model, train_loader, val_loader, criterion, optimizer, scheduler, scaler, NUM_EPOCHS\n",
    "    )"
   ]
  },
  {
   "cell_type": "code",
   "execution_count": 15,
   "metadata": {
    "colab": {
     "base_uri": "https://localhost:8080/",
     "height": 267
    },
    "id": "Uk_S1FPz_EmO",
    "outputId": "70311177-f21c-4bc6-fa23-eef159786f46"
   },
   "outputs": [
    {
     "data": {
      "image/png": "[encoded data removed]",
      "text/plain": [
       "<Figure size 864x288 with 2 Axes>"
      ]
     },
     "metadata": {
      "needs_background": "light"
     },
     "output_type": "display_data"
    },
    {
     "name": "stderr",
     "output_type": "stream",
     "text": [
      "Testing: 100%|██████████| 2002/2002 [01:56<00:00, 17.11it/s]\n",
      "2025-03-01 22:56:51,956 - Test Loss: 0.3689, Test MAE: 0.2618\n"
     ]
    }
   ],
   "source": [
    "if(True):\n",
    "    # Cell 7: Plot training metrics\n",
    "    plt.figure(figsize=(12, 4))\n",
    "    plt.subplot(1, 2, 1)\n",
    "    plt.plot(train_losses, label='Train Loss')\n",
    "    plt.plot(val_losses, label='Val Loss')\n",
    "    plt.xlabel('Epoch')\n",
    "    plt.ylabel('Loss')\n",
    "    plt.legend()\n",
    "    plt.title('Training and Validation Loss')\n",
    "\n",
    "    plt.subplot(1, 2, 2)\n",
    "    plt.plot(val_maes, label='Val MAE')\n",
    "    plt.xlabel('Epoch')\n",
    "    plt.ylabel('MAE')\n",
    "    plt.legend()\n",
    "    plt.title('Validation MAE')\n",
    "    plt.tight_layout()\n",
    "    plt.show()\n",
    "\n",
    "    # Cell 8: Evaluate on test set\n",
    "    model.eval()\n",
    "    test_loss, test_mae = 0, 0\n",
    "    with torch.no_grad():\n",
    "        for X, y in tqdm(test_loader, desc=\"Testing\"):\n",
    "            X, y = X.to(device), y.to(device)\n",
    "            output = model(X)\n",
    "            test_loss += criterion(output.squeeze(), y).item()\n",
    "            test_mae += torch.mean(torch.abs(output.squeeze() - y)).item()\n",
    "\n",
    "    test_loss /= len(test_loader)\n",
    "    test_mae /= len(test_loader)\n",
    "    logger.info(f\"Test Loss: {test_loss:.4f}, Test MAE: {test_mae:.4f}\")"
   ]
  },
  {
   "cell_type": "code",
   "execution_count": 16,
   "metadata": {
    "id": "WSPTeGIMFFEY"
   },
   "outputs": [
    {
     "name": "stderr",
     "output_type": "stream",
     "text": [
      "2025-03-01 22:56:52,007 - Model saved as 'transformer_model.pth'\n"
     ]
    }
   ],
   "source": [
    "    # Save the model\n",
    "    torch.save(model.state_dict(), 'transformer_modelg.pth')\n",
    "    logger.info(\"Model saved as 'transformer_model.pth'\")"
   ]
  },
  {
   "cell_type": "code",
   "execution_count": null,
   "metadata": {},
   "outputs": [],
   "source": []
  },
  {
   "cell_type": "code",
   "execution_count": null,
   "metadata": {},
   "outputs": [],
   "source": []
  }
 ],
 "metadata": {
  "accelerator": "GPU",
  "colab": {
   "gpuType": "T4",
   "provenance": []
  },
  "kaggle": {
   "accelerator": "gpu",
   "dataSources": [
    {
     "datasetId": 6723786,
     "sourceId": 10828484,
     "sourceType": "datasetVersion"
    }
   ],
   "dockerImageVersionId": 30919,
   "isGpuEnabled": true,
   "isInternetEnabled": false,
   "language": "python",
   "sourceType": "notebook"
  },
  "kernelspec": {
   "display_name": "Python 3 (ipykernel)",
   "language": "python",
   "name": "python3"
  },
  "language_info": {
   "codemirror_mode": {
    "name": "ipython",
    "version": 3
   },
   "file_extension": ".py",
   "mimetype": "text/x-python",
   "name": "python",
   "nbconvert_exporter": "python",
   "pygments_lexer": "ipython3",
   "version": "3.10.12"
  }
 },
 "nbformat": 4,
 "nbformat_minor": 4
}
